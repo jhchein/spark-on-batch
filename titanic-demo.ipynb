{
 "cells": [
  {
   "cell_type": "code",
   "execution_count": null,
   "metadata": {},
   "outputs": [],
   "source": [
    "from run_on_azure_batch import *"
   ]
  },
  {
   "cell_type": "code",
   "execution_count": null,
   "metadata": {},
   "outputs": [],
   "source": [
    "image_name = IMAGE_NAME\n",
    "image_version = IMAGE_VERSION"
   ]
  },
  {
   "cell_type": "code",
   "execution_count": null,
   "metadata": {},
   "outputs": [],
   "source": [
    "image_name"
   ]
  },
  {
   "cell_type": "code",
   "execution_count": null,
   "metadata": {},
   "outputs": [],
   "source": [
    "credentials = batch_auth.SharedKeyCredentials(\n",
    "    config.BATCH_ACCOUNT_NAME, config.BATCH_ACCOUNT_KEY\n",
    ")"
   ]
  },
  {
   "cell_type": "code",
   "execution_count": null,
   "metadata": {},
   "outputs": [],
   "source": [
    "batch_client = batch.BatchServiceClient(\n",
    "    credentials, base_url=config.BATCH_ACCOUNT_URL\n",
    ")"
   ]
  },
  {
   "cell_type": "code",
   "execution_count": null,
   "metadata": {},
   "outputs": [],
   "source": [
    "job_id = \"Job-\" + \"{:%Y-%m-%d-%H-%M-%S}\".format(datetime.datetime.now())\n",
    "pool_id = \"titanic\""
   ]
  },
  {
   "cell_type": "code",
   "execution_count": null,
   "metadata": {},
   "outputs": [],
   "source": [
    "container_registry = batch.models.ContainerRegistry(\n",
    "            registry_server=config.ACR_LOGINSERVER,\n",
    "            user_name=config.ACR_USERNAME,\n",
    "            password=config.ACR_PASSWORD,\n",
    "            )\n",
    "\n",
    "create_pool(\n",
    "    batch_service_client=batch_client,\n",
    "    pool_id=pool_id,\n",
    "    container_registry=container_registry,\n",
    "    image_name=image_name,\n",
    "    pool_node_count=3,\n",
    "    pool_vm_size=\"Standard_E2s_v3\",\n",
    "    skip_if_exists=True,\n",
    ")"
   ]
  },
  {
   "cell_type": "code",
   "execution_count": null,
   "metadata": {},
   "outputs": [],
   "source": [
    "    try:\n",
    "        # Create the job that will run the tasks.\n",
    "        create_job(batch_client, job_id, pool_id)\n",
    "\n",
    "        tasks = []\n",
    "        \n",
    "        for pclass in [1]:\n",
    "            command = f\"python /src/titanic_analytics.py --file wasbs://titanic@sparkonbatch.blob.core.windows.net/train.csv --pclass {pclass} --output wasbs://titanic@sparkonbatch.blob.core.windows.net/output_{pclass}.parquet\"\n",
    "            task = add_task(\n",
    "                batch_service_client=batch_client,\n",
    "                image_name=image_name,\n",
    "                image_version=image_version,\n",
    "                job_id=job_id,\n",
    "                command=command,\n",
    "                name=f\"pclass{pclass}\",\n",
    "            )\n",
    "            tasks.append(task)\n",
    "\n",
    "        # Pause execution until tasks reach Completed state.\n",
    "        wait_for_tasks_to_complete(batch_client, job_id, datetime.timedelta(hours=2))\n",
    "\n",
    "        print(\"  Success! All tasks reached the 'Completed' state within the specified timeout period.\")\n",
    "\n",
    "    except batchmodels.BatchErrorException as err:\n",
    "        print(err)\n",
    "        raise"
   ]
  },
  {
   "cell_type": "code",
   "execution_count": null,
   "metadata": {},
   "outputs": [],
   "source": [
    "# batch_client.job.delete(job_id)"
   ]
  },
  {
   "cell_type": "code",
   "execution_count": null,
   "metadata": {},
   "outputs": [],
   "source": [
    "# batch_client.pool.delete(\"titanic\")"
   ]
  },
  {
   "cell_type": "code",
   "execution_count": null,
   "metadata": {},
   "outputs": [],
   "source": []
  }
 ],
 "metadata": {
  "kernelspec": {
   "display_name": "Python 3",
   "language": "python",
   "name": "python3"
  },
  "language_info": {
   "codemirror_mode": {
    "name": "ipython",
    "version": 3
   },
   "file_extension": ".py",
   "mimetype": "text/x-python",
   "name": "python",
   "nbconvert_exporter": "python",
   "pygments_lexer": "ipython3",
   "version": "3.8.3"
  }
 },
 "nbformat": 4,
 "nbformat_minor": 4
}
